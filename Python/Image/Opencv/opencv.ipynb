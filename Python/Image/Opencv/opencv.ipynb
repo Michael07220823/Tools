{
 "cells": [
  {
   "cell_type": "markdown",
   "metadata": {},
   "source": [
    "# Opencv基本操作與Canny邊緣檢測"
   ]
  },
  {
   "cell_type": "markdown",
   "metadata": {},
   "source": [
    "## 圖像讀取&顯示"
   ]
  },
  {
   "cell_type": "code",
   "execution_count": 8,
   "metadata": {},
   "outputs": [
    {
     "name": "stdout",
     "output_type": "stream",
     "text": [
      "[INFO] Original lion.jpg type:  <class 'numpy.ndarray'>\n",
      "[INFO] Original lion.jpg's shape:  (616, 926, 3)\n",
      "[INFO] Resize height to 300, width to 450, and shape is:  (300, 450, 3)\n"
     ]
    }
   ],
   "source": [
    "import cv2 \n",
    "\n",
    "# cv2.IMREAD_UNCHANGED 顏色比cv2.IMREAD_COLOR還要鮮豔\n",
    "image1 = cv2.imread(\"images\\\\lion.jpg\", cv2.IMREAD_UNCHANGED)\n",
    "\n",
    "print(\"[INFO] Original lion.jpg type: \", type(image1))\n",
    "print(\"[INFO] Original lion.jpg's shape: \", image1.shape)\n",
    "\n",
    "image1 = cv2.resize(image1, (450,300))\n",
    "print(\"[INFO] Resize height to 300, width to 450, and shape is: \", image1.shape)\n",
    "cv2.imshow(\"Imread unchanged\", image1)\n",
    "\n",
    "# cv2.IMREAD_COLOR 顏色比原檔淡一點\n",
    "image2 = cv2.imread(\"F:\\micha\\Github\\image_processing_excercise\\Opencv\\lion.jpg\", cv2.IMREAD_COLOR)\n",
    "image2 = cv2.resize(image2, (450,300))\n",
    "cv2.imshow(\"Imread color\", image2)\n",
    "\n",
    "# cv2.IMREAD_GRAYSCALE 灰階\n",
    "image3 = cv2.imread(\"F:\\micha\\Github\\image_processing_excercise\\Opencv\\lion.jpg\", cv2.IMREAD_GRAYSCALE)\n",
    "image3 = cv2.resize(image3, (450,300))\n",
    "cv2.imshow(\"Imread grayscale\", image3)\n",
    "\n",
    "# 按下任意鍵離開\n",
    "cv2.waitKey(0)\n",
    "# 關閉所有的視窗\n",
    "cv2.destroyAllWindows()\n",
    "\n",
    "# 參考:https://docs.opencv.org/4.1.0/d4/da8/group__imgcodecs.html"
   ]
  },
  {
   "cell_type": "markdown",
   "metadata": {},
   "source": [
    "## 圖像儲存&顯示"
   ]
  },
  {
   "cell_type": "code",
   "execution_count": 9,
   "metadata": {},
   "outputs": [
    {
     "name": "stdout",
     "output_type": "stream",
     "text": [
      "[INFO] lion_output_jpg.jpg has stored.\n",
      "[INFO] lion_output_png.png has stored.\n"
     ]
    }
   ],
   "source": [
    "import cv2\n",
    "\n",
    "# cv2.imread(\"圖片路徑\")，讀取圖片\n",
    "original_image = cv2.imread(\"images\\\\lion.jpg\", cv2.IMREAD_UNCHANGED)\n",
    "# cv2.resize(圖檔的變數, (寬,高))，寬和高的參數為tuple的資料型態，重新設定圖像大小為寬450 高300\n",
    "original_image = cv2.resize(original_image, (450,300))\n",
    "# cv2.IMWRITE_JPEG_QUALITY值為0 ~ 100\n",
    "cv2.imwrite(\"images\\\\lion_output_jpg.jpg\", original_image, [cv2.IMWRITE_JPEG_QUALITY, 10])\n",
    "# 印出儲存的檔名\n",
    "print(\"[INFO] lion_output_jpg.jpg has stored.\")\n",
    "# cv2.IMWRITE_PNG_COMPRESSION值為0 ~ 9\n",
    "cv2.imwrite(\"images\\\\lion_output_png.png\", original_image, [cv2.IMWRITE_PNG_COMPRESSION, 5])\n",
    "# 印出儲存的檔名\n",
    "print(\"[INFO] lion_output_png.png has stored.\")\n",
    "\n",
    "\n",
    "# 讀取儲存的JPG檔\n",
    "output_jpg = cv2.imread(\"images\\\\lion_output_jpg.jpg\")\n",
    "# 讀取儲存的PNG檔\n",
    "output_png = cv2.imread(\"images\\\\lion_output_png.png\")\n",
    "\n",
    "# cv2.namedWindow(\"視窗名稱\", cv2.WINDOW_NORMAL)，cv2.WINDOW_NORMAL讓視窗可以自由放大縮小，且圖像會跟著改變大小\n",
    "cv2.namedWindow(\"Original\", cv2.WINDOW_NORMAL)\n",
    "# 若是要同時使用cv2.namedWindow()和cv2.imshow()，則視窗名稱需要一致，才不會出現兩個視窗\n",
    "cv2.imshow(\"Original\", original_image)\n",
    "cv2.namedWindow(\"Output_JPG\", cv2.WINDOW_NORMAL)\n",
    "cv2.imshow(\"Output_JPG\", output_jpg)\n",
    "cv2.namedWindow(\"Output_PNG\", cv2.WINDOW_NORMAL)\n",
    "cv2.imshow(\"Output_PNG\", output_png)\n",
    "\n",
    "# 按下任意鍵離開\n",
    "cv2.waitKey(0)\n",
    "# 關閉所有的視窗\n",
    "cv2.destroyAllWindows()"
   ]
  },
  {
   "cell_type": "markdown",
   "metadata": {},
   "source": [
    "## Canny圖像可調式邊緣檢測"
   ]
  },
  {
   "cell_type": "code",
   "execution_count": 10,
   "metadata": {},
   "outputs": [],
   "source": [
    "import cv2 \n",
    "\n",
    "# 定義cv2.createTrackbar()裡的觸發函式\n",
    "def nothing(x):     \n",
    "    pass \n",
    "\n",
    "# 讀取圖檔\n",
    "img_noblur = cv2.imread('images\\\\badminton.jpg')\n",
    "# 重設圖檔大小，寬960，高640\n",
    "img_noblur = cv2.resize(img_noblur, (960,640))\n",
    "# 平均模糊，設定矩陣為7*7的大小\n",
    "img = cv2.blur(img_noblur, (7,7))\n",
    "# cv2.Canny(圖像變數, 最小值,最大值)，Canny邊緣檢測參考:https://docs.opencv.org/4.1.0/d7/de1/tutorial_js_canny.html\n",
    "canny_edge = cv2.Canny(img, 0,0)\n",
    "# 若是要同時使用cv2.namedWindow()和cv2.imshow()，則視窗名稱需要一致，才不會出現兩個視窗\n",
    "cv2.namedWindow(\"Image\", cv2.WINDOW_GUI_NORMAL)\n",
    "cv2.imshow('Image', img) \n",
    "cv2.namedWindow(\"Canny edge\", cv2.WINDOW_GUI_NORMAL)\n",
    "cv2.imshow('Canny edge', canny_edge)   \n",
    "# cv2.createTrackbar('標籤名稱','視窗名稱', 最小值,最大值, 觸發函式) 創建一個軌道滑動並將其附加到指定的視窗。\n",
    "cv2.createTrackbar('min_value','Canny edge', 0,400, nothing) \n",
    "cv2.createTrackbar('max_value','Canny edge', 0,400, nothing) \n",
    "\n",
    "while(True):\n",
    "    cv2.imshow('Image', img)\n",
    "    cv2.imshow('Canny edge', canny_edge)\n",
    "    # cv2.getTrackbarPos('標籤名稱', '視窗名稱')取得軌道目前的數值，用以控制Canny邊緣檢測的最小、最大值\n",
    "    min_value = cv2.getTrackbarPos('min_value', 'Canny edge')\n",
    "    max_value = cv2.getTrackbarPos('max_value', 'Canny edge')\n",
    "    canny_edge = cv2.Canny(img, min_value,max_value)\n",
    "    \n",
    "    # 等待按下任意鍵，沒有按任何鍵則回傳-1\n",
    "    k = cv2.waitKey(27)\n",
    "    if k >= 27:\n",
    "        # 關閉所有視窗\n",
    "        cv2.destroyAllWindows()\n",
    "        # 跳出while迴圈\n",
    "        break"
   ]
  }
 ],
 "metadata": {
  "kernelspec": {
   "display_name": "Python 3",
   "language": "python",
   "name": "python3"
  },
  "language_info": {
   "codemirror_mode": {
    "name": "ipython",
    "version": 3
   },
   "file_extension": ".py",
   "mimetype": "text/x-python",
   "name": "python",
   "nbconvert_exporter": "python",
   "pygments_lexer": "ipython3",
   "version": "3.6.8"
  }
 },
 "nbformat": 4,
 "nbformat_minor": 2
}